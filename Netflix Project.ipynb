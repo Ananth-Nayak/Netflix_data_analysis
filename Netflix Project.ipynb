{
 "cells": [
  {
   "cell_type": "markdown",
   "id": "24e97ad2",
   "metadata": {},
   "source": [
    "# Importing Pandas Library\n"
   ]
  },
  {
   "cell_type": "code",
   "execution_count": 2,
   "id": "b652b577",
   "metadata": {},
   "outputs": [],
   "source": [
    "import pandas as pd"
   ]
  },
  {
   "cell_type": "markdown",
   "id": "72f9241d",
   "metadata": {},
   "source": [
    "## Reading the dataset\n",
    "\n",
    "### Dataset used in this project :-  __[Netflix Dataset](https://www.kaggle.com/datasets/shivamb/netflix-shows)__\n",
    "- You can Use Kaggle API also to connect with the dataset.\n",
    "- Or You can directly download to local device and add it in project folder."
   ]
  },
  {
   "cell_type": "code",
   "execution_count": 3,
   "id": "a290f731",
   "metadata": {},
   "outputs": [],
   "source": [
    "df=pd.read_csv('netflix_titles.csv')"
   ]
  },
  {
   "cell_type": "markdown",
   "id": "dc58321c",
   "metadata": {},
   "source": [
    "## Connecting to the sql server"
   ]
  },
  {
   "cell_type": "code",
   "execution_count": 20,
   "id": "04ea65af",
   "metadata": {},
   "outputs": [],
   "source": [
    "import sqlalchemy as sal\n",
    "engine = sal.create_engine(\"mssql://AD\\SQLEXPRESS/ananthdb1?driver=ODBC+DRIVER+17+FOR+SQL+SERVER\")\n",
    "conn=engine.connect()"
   ]
  },
  {
   "cell_type": "markdown",
   "id": "b2e727cb",
   "metadata": {},
   "source": [
    "## Loading the data into the database\n",
    "- Since it is a ELT project, we are loading the data into a database and then transform the data to make analysis.\n",
    "- Therefor we close the connection with the database immedietly after the data loaded into it."
   ]
  },
  {
   "cell_type": "code",
   "execution_count": 6,
   "id": "be24421a",
   "metadata": {},
   "outputs": [],
   "source": [
    "df.to_sql(\"netflix_raw\",con=conn,index=False, if_exists=\"replace\")\n",
    "conn.close()"
   ]
  },
  {
   "cell_type": "markdown",
   "id": "6ca91544",
   "metadata": {},
   "source": [
    "## Exercise\n",
    "==> All the analysis will be made in database, The below cells are used for my exercise"
   ]
  },
  {
   "cell_type": "code",
   "execution_count": 9,
   "id": "3760e74f",
   "metadata": {
    "scrolled": true
   },
   "outputs": [
    {
     "data": {
      "text/plain": [
       "8807"
      ]
     },
     "execution_count": 9,
     "metadata": {},
     "output_type": "execute_result"
    }
   ],
   "source": [
    "len(df)"
   ]
  },
  {
   "cell_type": "code",
   "execution_count": 10,
   "id": "f06924ed",
   "metadata": {},
   "outputs": [
    {
     "data": {
      "text/html": [
       "<div>\n",
       "<style scoped>\n",
       "    .dataframe tbody tr th:only-of-type {\n",
       "        vertical-align: middle;\n",
       "    }\n",
       "\n",
       "    .dataframe tbody tr th {\n",
       "        vertical-align: top;\n",
       "    }\n",
       "\n",
       "    .dataframe thead th {\n",
       "        text-align: right;\n",
       "    }\n",
       "</style>\n",
       "<table border=\"1\" class=\"dataframe\">\n",
       "  <thead>\n",
       "    <tr style=\"text-align: right;\">\n",
       "      <th></th>\n",
       "      <th>show_id</th>\n",
       "      <th>type</th>\n",
       "      <th>title</th>\n",
       "      <th>director</th>\n",
       "      <th>cast</th>\n",
       "      <th>country</th>\n",
       "      <th>date_added</th>\n",
       "      <th>release_year</th>\n",
       "      <th>rating</th>\n",
       "      <th>duration</th>\n",
       "      <th>listed_in</th>\n",
       "      <th>description</th>\n",
       "    </tr>\n",
       "  </thead>\n",
       "  <tbody>\n",
       "    <tr>\n",
       "      <th>5022</th>\n",
       "      <td>s5023</td>\n",
       "      <td>Movie</td>\n",
       "      <td>반드시 잡는다</td>\n",
       "      <td>Hong-seon Kim</td>\n",
       "      <td>Baek Yoon-sik</td>\n",
       "      <td>South Korea</td>\n",
       "      <td>February 28, 2018</td>\n",
       "      <td>2017</td>\n",
       "      <td>TV-MA</td>\n",
       "      <td>110 min</td>\n",
       "      <td>Dramas, International Movies, Thrillers</td>\n",
       "      <td>After people in his town start turning up dead...</td>\n",
       "    </tr>\n",
       "  </tbody>\n",
       "</table>\n",
       "</div>"
      ],
      "text/plain": [
       "     show_id   type    title       director           cast      country  \\\n",
       "5022   s5023  Movie  반드시 잡는다  Hong-seon Kim  Baek Yoon-sik  South Korea   \n",
       "\n",
       "             date_added  release_year rating duration  \\\n",
       "5022  February 28, 2018          2017  TV-MA  110 min   \n",
       "\n",
       "                                    listed_in  \\\n",
       "5022  Dramas, International Movies, Thrillers   \n",
       "\n",
       "                                            description  \n",
       "5022  After people in his town start turning up dead...  "
      ]
     },
     "execution_count": 10,
     "metadata": {},
     "output_type": "execute_result"
    }
   ],
   "source": [
    "df[df['show_id']=='s5023']"
   ]
  },
  {
   "cell_type": "code",
   "execution_count": 12,
   "id": "d1b1aa12",
   "metadata": {},
   "outputs": [
    {
     "data": {
      "text/plain": [
       "0       2\n",
       "1       2\n",
       "2       2\n",
       "3       2\n",
       "4       2\n",
       "       ..\n",
       "8802    5\n",
       "8803    5\n",
       "8804    5\n",
       "8805    5\n",
       "8806    5\n",
       "Name: show_id, Length: 8807, dtype: int64"
      ]
     },
     "execution_count": 12,
     "metadata": {},
     "output_type": "execute_result"
    }
   ],
   "source": [
    "df['show_id'].str.len()"
   ]
  },
  {
   "cell_type": "code",
   "execution_count": 14,
   "id": "28b28ba2",
   "metadata": {},
   "outputs": [
    {
     "data": {
      "text/plain": [
       "5"
      ]
     },
     "execution_count": 14,
     "metadata": {},
     "output_type": "execute_result"
    }
   ],
   "source": [
    "max(df['show_id'].str.len())"
   ]
  },
  {
   "cell_type": "markdown",
   "id": "4cf2dd9f",
   "metadata": {},
   "source": [
    "- if any column contains null value, it shows the maximun value of that column as nan(null)"
   ]
  },
  {
   "cell_type": "code",
   "execution_count": 19,
   "id": "6f339464",
   "metadata": {},
   "outputs": [
    {
     "data": {
      "text/plain": [
       "nan"
      ]
     },
     "execution_count": 19,
     "metadata": {},
     "output_type": "execute_result"
    }
   ],
   "source": [
    "max(df.cast.str.len())"
   ]
  },
  {
   "cell_type": "code",
   "execution_count": 16,
   "id": "5e296e5d",
   "metadata": {},
   "outputs": [
    {
     "data": {
      "text/plain": [
       "771"
      ]
     },
     "execution_count": 16,
     "metadata": {},
     "output_type": "execute_result"
    }
   ],
   "source": [
    "max(df.cast.dropna().str.len())"
   ]
  },
  {
   "cell_type": "markdown",
   "id": "ada65747",
   "metadata": {},
   "source": [
    "##### To append the data again after resturcturing the table."
   ]
  },
  {
   "cell_type": "code",
   "execution_count": 21,
   "id": "9060df8b",
   "metadata": {},
   "outputs": [],
   "source": [
    "df.to_sql(\"netflix_raw\", con=conn, index=False, if_exists='append')\n",
    "conn.close()"
   ]
  },
  {
   "cell_type": "markdown",
   "id": "470faa66",
   "metadata": {},
   "source": [
    "#### To check the null values"
   ]
  },
  {
   "cell_type": "code",
   "execution_count": null,
   "id": "fc3772b2",
   "metadata": {},
   "outputs": [],
   "source": [
    "df.isna().sum()"
   ]
  }
 ],
 "metadata": {
  "kernelspec": {
   "display_name": "Python 3 (ipykernel)",
   "language": "python",
   "name": "python3"
  },
  "language_info": {
   "codemirror_mode": {
    "name": "ipython",
    "version": 3
   },
   "file_extension": ".py",
   "mimetype": "text/x-python",
   "name": "python",
   "nbconvert_exporter": "python",
   "pygments_lexer": "ipython3",
   "version": "3.11.5"
  }
 },
 "nbformat": 4,
 "nbformat_minor": 5
}
